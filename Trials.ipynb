{
 "cells": [
  {
   "cell_type": "code",
   "execution_count": 316,
   "metadata": {},
   "outputs": [
    {
     "name": "stderr",
     "output_type": "stream",
     "text": [
      "C:\\Users\\mramirez\\Desktop\\Maximiliano Vedoya Ramirez\\Dashboards development\\Web\\apps\\functions.py:385: SettingWithCopyWarning:\n",
      "\n",
      "\n",
      "A value is trying to be set on a copy of a slice from a DataFrame\n",
      "\n",
      "See the caveats in the documentation: https://pandas.pydata.org/pandas-docs/stable/user_guide/indexing.html#returning-a-view-versus-a-copy\n",
      "\n",
      "C:\\Users\\mramirez\\Desktop\\Maximiliano Vedoya Ramirez\\Dashboards development\\Web\\apps\\functions.py:413: SettingWithCopyWarning:\n",
      "\n",
      "\n",
      "A value is trying to be set on a copy of a slice from a DataFrame\n",
      "\n",
      "See the caveats in the documentation: https://pandas.pydata.org/pandas-docs/stable/user_guide/indexing.html#returning-a-view-versus-a-copy\n",
      "\n"
     ]
    }
   ],
   "source": [
    "from apps import functions as fx\n",
    "import pandas as pd\n",
    "reference='Night shift'\n",
    "file_name=str(fx.date_reader())[5:10]+reference+'.xlsx'\n",
    "main,aux=fx.get_main_aux(file_name)"
   ]
  },
  {
   "cell_type": "code",
   "execution_count": 319,
   "metadata": {},
   "outputs": [
    {
     "data": {
      "text/html": [
       "<div>\n",
       "<style scoped>\n",
       "    .dataframe tbody tr th:only-of-type {\n",
       "        vertical-align: middle;\n",
       "    }\n",
       "\n",
       "    .dataframe tbody tr th {\n",
       "        vertical-align: top;\n",
       "    }\n",
       "\n",
       "    .dataframe thead th {\n",
       "        text-align: right;\n",
       "    }\n",
       "</style>\n",
       "<table border=\"1\" class=\"dataframe\">\n",
       "  <thead>\n",
       "    <tr style=\"text-align: right;\">\n",
       "      <th></th>\n",
       "      <th>Reference</th>\n",
       "      <th>Last Location</th>\n",
       "      <th>20:00-21:00</th>\n",
       "      <th>21:00-22:00</th>\n",
       "      <th>22:00-23:00</th>\n",
       "      <th>23:00-0:00</th>\n",
       "      <th>0:00-1:00</th>\n",
       "      <th>1:00-2:00</th>\n",
       "      <th>2:00-3:00</th>\n",
       "      <th>3:00-4:00</th>\n",
       "      <th>Rate</th>\n",
       "    </tr>\n",
       "    <tr>\n",
       "      <th>Name</th>\n",
       "      <th></th>\n",
       "      <th></th>\n",
       "      <th></th>\n",
       "      <th></th>\n",
       "      <th></th>\n",
       "      <th></th>\n",
       "      <th></th>\n",
       "      <th></th>\n",
       "      <th></th>\n",
       "      <th></th>\n",
       "      <th></th>\n",
       "    </tr>\n",
       "  </thead>\n",
       "  <tbody>\n",
       "    <tr>\n",
       "      <th>Total</th>\n",
       "      <td>Total</td>\n",
       "      <td>---</td>\n",
       "      <td>248.0</td>\n",
       "      <td>363.0</td>\n",
       "      <td>295.0</td>\n",
       "      <td>244.0</td>\n",
       "      <td>76.0</td>\n",
       "      <td>91.0</td>\n",
       "      <td>19.0</td>\n",
       "      <td>9.0</td>\n",
       "      <td>168.12</td>\n",
       "    </tr>\n",
       "  </tbody>\n",
       "</table>\n",
       "</div>"
      ],
      "text/plain": [
       "      Reference Last Location  20:00-21:00  21:00-22:00  22:00-23:00  \\\n",
       "Name                                                                   \n",
       "Total     Total           ---        248.0        363.0        295.0   \n",
       "\n",
       "       23:00-0:00  0:00-1:00  1:00-2:00  2:00-3:00  3:00-4:00    Rate  \n",
       "Name                                                                   \n",
       "Total       244.0       76.0       91.0       19.0        9.0  168.12  "
      ]
     },
     "execution_count": 319,
     "metadata": {},
     "output_type": "execute_result"
    }
   ],
   "source": [
    "temp=[main[main['Last Location']==location] for location in top_100]\n",
    "main_table_1=pd.concat(temp,axis=0)\n",
    "temp=[main[main['Last Location']==location] for location in top_50]\n",
    "main_table_2=pd.concat(temp,axis=0)\n",
    "main_table_total=main[main['Last Location']=='---']\n",
    "\n",
    "main_table_1=main_table_1.drop_duplicates().sort_values('Rate',ascending=True).replace('nan',' ')\n",
    "main_table_total"
   ]
  },
  {
   "cell_type": "code",
   "execution_count": null,
   "metadata": {},
   "outputs": [],
   "source": []
  }
 ],
 "metadata": {
  "kernelspec": {
   "display_name": "Python 3",
   "language": "python",
   "name": "python3"
  },
  "language_info": {
   "codemirror_mode": {
    "name": "ipython",
    "version": 3
   },
   "file_extension": ".py",
   "mimetype": "text/x-python",
   "name": "python",
   "nbconvert_exporter": "python",
   "pygments_lexer": "ipython3",
   "version": "3.7.6"
  }
 },
 "nbformat": 4,
 "nbformat_minor": 4
}
