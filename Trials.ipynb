{
 "cells": [
  {
   "cell_type": "code",
   "execution_count": 5,
   "metadata": {},
   "outputs": [
    {
     "data": {
      "text/plain": [
       "datetime.date(2020, 7, 18)"
      ]
     },
     "execution_count": 5,
     "metadata": {},
     "output_type": "execute_result"
    }
   ],
   "source": [
    "import pandas as pd\n",
    "morning=[('4:00','5:00'),('5:00','6:00'),('6:00','7:00'),('7:00','8:00'),\n",
    "                ('8:00','9:00'),('9:00','10:00'),('10:00','11:00'),('11:00','12:00')]\n",
    "afternoon=[('12:00','13:00'),('13:00','14:00'),('14:00','15:00'),('15:00','16:00'),\n",
    "                ('16:00','17:00'),('17:00','18:00'),('18:00','19:00'),('19:00','20:00')]\n",
    "night=[('20:00','21:00'),('21:00','22:00'),('22:00','23:00'),('23:00','0:00'),\n",
    "                ('0:00','1:00'),('1:00','2:00'),('2:00','3:00'),('3:00','4:00')]\n",
    "\n",
    "import datetime\n",
    "today=datetime.date.today()\n",
    "min_=today-datetime.timedelta(days=-4)\n",
    "min_\n"
   ]
  },
  {
   "cell_type": "code",
   "execution_count": 6,
   "metadata": {},
   "outputs": [],
   "source": [
    "DATE=datetime.datetime.today()"
   ]
  },
  {
   "cell_type": "code",
   "execution_count": 22,
   "metadata": {},
   "outputs": [],
   "source": [
    "import pickle \n",
    "with open('da.pckl', 'wb') as f:  # Python 3: open(..., 'wb')\n",
    "    pickle.dump(DATE, f)"
   ]
  },
  {
   "cell_type": "code",
   "execution_count": 8,
   "metadata": {},
   "outputs": [
    {
     "data": {
      "text/plain": [
       "Timestamp('2020-07-14 00:00:00')"
      ]
     },
     "execution_count": 8,
     "metadata": {},
     "output_type": "execute_result"
    }
   ],
   "source": []
  },
  {
   "cell_type": "code",
   "execution_count": 9,
   "metadata": {},
   "outputs": [],
   "source": [
    "# from apps import functions as fx\n",
    "# data=fx.get_data()"
   ]
  },
  {
   "cell_type": "code",
   "execution_count": 28,
   "metadata": {},
   "outputs": [
    {
     "data": {
      "text/plain": [
       "Timestamp('2020-07-14 00:00:00')"
      ]
     },
     "execution_count": 28,
     "metadata": {},
     "output_type": "execute_result"
    }
   ],
   "source": [
    "from datetime import date\n",
    "f = open('date.pckl', 'rb')\n",
    "obj = pickle.load(f)\n",
    "f.close()\n",
    "obj=pd.Timestamp(obj)\n",
    "df=fx.get_rates('Morning shift',morning,obj,data)\n",
    "# df\n",
    "obj"
   ]
  },
  {
   "cell_type": "code",
   "execution_count": null,
   "metadata": {},
   "outputs": [],
   "source": []
  }
 ],
 "metadata": {
  "kernelspec": {
   "display_name": "Python 3",
   "language": "python",
   "name": "python3"
  },
  "language_info": {
   "codemirror_mode": {
    "name": "ipython",
    "version": 3
   },
   "file_extension": ".py",
   "mimetype": "text/x-python",
   "name": "python",
   "nbconvert_exporter": "python",
   "pygments_lexer": "ipython3",
   "version": "3.7.6"
  }
 },
 "nbformat": 4,
 "nbformat_minor": 4
}
