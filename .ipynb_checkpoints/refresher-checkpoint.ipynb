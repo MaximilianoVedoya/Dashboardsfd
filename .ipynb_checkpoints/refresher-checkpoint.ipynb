{
 "cells": [
  {
   "cell_type": "code",
   "execution_count": 1,
   "metadata": {},
   "outputs": [],
   "source": [
    "# import pandas as pd\n",
    "# morning=[('4:00','5:00'),('5:00','6:00'),('6:00','7:00'),('7:00','8:00'),\n",
    "#                 ('8:00','9:00'),('9:00','10:00'),('10:00','11:00'),('11:00','12:00')]\n",
    "# afternoon=[('12:00','13:00'),('13:00','14:00'),('14:00','15:00'),('15:00','16:00'),\n",
    "#                 ('16:00','17:00'),('17:00','18:00'),('18:00','19:00'),('19:00','20:00')]\n",
    "# night=[('20:00','21:00'),('21:00','22:00'),('22:00','23:00'),('23:00','0:00'),\n",
    "#                 ('0:00','1:00'),('1:00','2:00'),('2:00','3:00'),('3:00','4:00')]\n",
    "\n",
    "# import datetime\n",
    "# today=datetime.date.today()\n",
    "# min_=today-datetime.timedelta(days=1)\n",
    "# date_=pd.Timestamp(min_)\n",
    "# from apps import functions as fx\n",
    "# data=pd.read_excel('archive/database.xlsx')\n",
    "# fx.get_rates('Night shift',night,pd.Timestamp(min_),data)"
   ]
  },
  {
   "cell_type": "code",
   "execution_count": null,
   "metadata": {},
   "outputs": [],
   "source": [
    "from apps import functions as fx\n",
    "fx.get_data()  \n",
    "fx.initializer(3,-1)"
   ]
  },
  {
   "cell_type": "code",
   "execution_count": null,
   "metadata": {},
   "outputs": [],
   "source": [
    "# import datetime \n",
    "# import time\n",
    "# from apps import functions as fx\n",
    "# today=time.ctime()[8:10]\n",
    "# user_input=str(fx.date_reader())[8:10]\n",
    "# if today==user_input:\n",
    "    \n",
    "# else:\n",
    "    "
   ]
  },
  {
   "cell_type": "code",
   "execution_count": null,
   "metadata": {},
   "outputs": [],
   "source": [
    "# from apps import functions as fx\n",
    "# fx.update_time(4,12)"
   ]
  },
  {
   "cell_type": "code",
   "execution_count": null,
   "metadata": {},
   "outputs": [],
   "source": [
    "# import datetime\n",
    "# import time\n",
    "# from apps import functions as fx\n",
    "# hour=int(time.ctime()[11:13])\n",
    "# user_input=str(fx.date_reader())[8:10]\n",
    "# if hour>=20 or hour=<4:"
   ]
  },
  {
   "cell_type": "code",
   "execution_count": null,
   "metadata": {},
   "outputs": [],
   "source": [
    "for i in range(3,-1,-1):\n",
    "    print(i)"
   ]
  },
  {
   "cell_type": "code",
   "execution_count": null,
   "metadata": {},
   "outputs": [],
   "source": []
  }
 ],
 "metadata": {
  "kernelspec": {
   "display_name": "Python 3",
   "language": "python",
   "name": "python3"
  },
  "language_info": {
   "codemirror_mode": {
    "name": "ipython",
    "version": 3
   },
   "file_extension": ".py",
   "mimetype": "text/x-python",
   "name": "python",
   "nbconvert_exporter": "python",
   "pygments_lexer": "ipython3",
   "version": "3.7.6"
  }
 },
 "nbformat": 4,
 "nbformat_minor": 4
}
